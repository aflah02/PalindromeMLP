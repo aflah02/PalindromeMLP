{
 "cells": [
  {
   "cell_type": "code",
   "execution_count": 122,
   "metadata": {},
   "outputs": [],
   "source": [
    "import string\n",
    "import numpy as np\n",
    "import pandas as pd\n",
    "import matplotlib.pyplot as plt\n",
    "import seaborn as sns\n",
    "from sklearn.metrics import classification_report,confusion_matrix\n",
    "from sklearn.model_selection import train_test_split\n",
    "from sklearn.neural_network import MLPClassifier"
   ]
  },
  {
   "cell_type": "code",
   "execution_count": 123,
   "metadata": {},
   "outputs": [],
   "source": [
    "SEQ_LENGTH = 9\n",
    "\n",
    "all_chars = string.ascii_uppercase\n",
    "\n",
    "def generate_palindromic_strings(length, count):\n",
    "    \"\"\"\n",
    "    Generate palindromic strings of length `length`.\n",
    "    \"\"\"\n",
    "    assert length % 2 == 1, \"length must be odd\"\n",
    "    assert length >= 3, \"length must be at least 3\"\n",
    "    strings = []\n",
    "    while len(strings) < count:\n",
    "        s = \"\"\n",
    "        for j in range(length // 2):\n",
    "            s += np.random.choice(list(all_chars))\n",
    "        s += np.random.choice(list(all_chars))\n",
    "        s += s[:length // 2][::-1]\n",
    "        if s not in strings:\n",
    "            strings.append(s)\n",
    "    return strings\n",
    "\n",
    "def generate_nonpalindromic_strings(length, count):\n",
    "    \"\"\"\n",
    "    Generate non-palindromic strings of length `length`.\n",
    "    \"\"\"\n",
    "    assert length % 2 == 1, \"length must be odd\"\n",
    "    assert length >= 3, \"length must be at least 3\"\n",
    "    strings = []\n",
    "    while len(strings) < count:\n",
    "        s = \"\"\n",
    "        for j in range(length):\n",
    "            s += np.random.choice(list(all_chars))\n",
    "        if s not in strings:\n",
    "            strings.append(s)\n",
    "    return strings\n",
    "\n",
    "def generate_nearly_palindromic_strings(length, count):\n",
    "    \"\"\"\n",
    "    Generate nearly palindromic strings of length `length`.\n",
    "    \"\"\"\n",
    "    assert length % 2 == 1, \"length must be odd\"\n",
    "    assert length >= 3, \"length must be at least 3\"\n",
    "    palindromic_strings = generate_palindromic_strings(length, count)\n",
    "    strings = []\n",
    "    for s in palindromic_strings:\n",
    "        s = list(s)\n",
    "        i = np.random.randint(0, length // 2)\n",
    "        j = np.random.randint(0, length // 2)\n",
    "        tries = 0\n",
    "        while s[i] == s[j] and tries < 10:\n",
    "            tries += 1\n",
    "            j = np.random.randint(0, length // 2)\n",
    "        if tries == 10:\n",
    "            continue\n",
    "        s[i], s[j] = s[j], s[i]\n",
    "        strings.append(\"\".join(s))\n",
    "    return palindromic_strings + strings"
   ]
  },
  {
   "cell_type": "code",
   "execution_count": 124,
   "metadata": {},
   "outputs": [],
   "source": [
    "# generate 5000 palindromic strings \n",
    "palindromic_strings = generate_palindromic_strings(SEQ_LENGTH, 5000)\n",
    "# generate 5000 non-palindromic strings \n",
    "nonpalindromic_strings = generate_nonpalindromic_strings(SEQ_LENGTH, 5000)\n",
    "# generate 10000 challenging strings\n",
    "challenge_strings = generate_nearly_palindromic_strings(SEQ_LENGTH, 10000)"
   ]
  },
  {
   "cell_type": "code",
   "execution_count": 125,
   "metadata": {},
   "outputs": [],
   "source": [
    "def is_palindrome(s):\n",
    "    \"\"\"\n",
    "    Returns True if s is a palindrome, False otherwise.\n",
    "    \"\"\"\n",
    "    return s == s[::-1]"
   ]
  },
  {
   "cell_type": "code",
   "execution_count": 151,
   "metadata": {},
   "outputs": [
    {
     "data": {
      "text/plain": [
       "10000"
      ]
     },
     "execution_count": 151,
     "metadata": {},
     "output_type": "execute_result"
    }
   ],
   "source": [
    "for s in palindromic_strings:\n",
    "    assert is_palindrome(s)\n",
    "for s in nonpalindromic_strings:\n",
    "    assert not is_palindrome(s)\n",
    "palindrome_count = 0\n",
    "for s in challenge_strings:\n",
    "    if is_palindrome(s):\n",
    "        palindrome_count += 1\n",
    "palindrome_count"
   ]
  },
  {
   "cell_type": "code",
   "execution_count": 127,
   "metadata": {},
   "outputs": [],
   "source": [
    "dataset = palindromic_strings + nonpalindromic_strings\n",
    "labels = [1] * 5000 + [0] * 5000\n",
    "challenge_dataset = challenge_strings\n",
    "challenge_labels = [1] * 5000 + [0] * (len(challenge_strings) - 5000)\n",
    "# train test split\n",
    "train_dataset, test_dataset, train_labels, test_labels = train_test_split(dataset, labels, test_size=0.2, random_state=42, stratify=labels)"
   ]
  },
  {
   "cell_type": "code",
   "execution_count": 128,
   "metadata": {},
   "outputs": [
    {
     "data": {
      "text/plain": [
       "(8000, 2000, 19999, 8000, 2000, 19999)"
      ]
     },
     "execution_count": 128,
     "metadata": {},
     "output_type": "execute_result"
    }
   ],
   "source": [
    "len(train_dataset), len(test_dataset), len(challenge_dataset), len(train_labels), len(test_labels), len(challenge_labels)"
   ]
  },
  {
   "cell_type": "markdown",
   "metadata": {},
   "source": [
    "# Count Vectorizer Based"
   ]
  },
  {
   "cell_type": "code",
   "execution_count": 129,
   "metadata": {},
   "outputs": [],
   "source": [
    "from sklearn.feature_extraction.text import CountVectorizer\n",
    "count_vect = CountVectorizer()"
   ]
  },
  {
   "cell_type": "code",
   "execution_count": 130,
   "metadata": {},
   "outputs": [],
   "source": [
    "X_train_counts = count_vect.fit_transform(train_dataset)\n",
    "X_test_counts = count_vect.transform(test_dataset)\n",
    "X_challenge_counts = count_vect.transform(challenge_dataset)"
   ]
  },
  {
   "cell_type": "code",
   "execution_count": 131,
   "metadata": {},
   "outputs": [
    {
     "data": {
      "text/plain": [
       "((8000, 8000), (2000, 8000))"
      ]
     },
     "execution_count": 131,
     "metadata": {},
     "output_type": "execute_result"
    }
   ],
   "source": [
    "X_train_counts.shape, X_test_counts.shape"
   ]
  },
  {
   "cell_type": "code",
   "execution_count": 132,
   "metadata": {},
   "outputs": [
    {
     "name": "stdout",
     "output_type": "stream",
     "text": [
      "Iteration 1, loss = 0.69330099\n",
      "Validation score: 0.498750\n",
      "Iteration 2, loss = 0.66677961\n",
      "Validation score: 0.513750\n",
      "Iteration 3, loss = 0.48777775\n",
      "Validation score: 0.505000\n",
      "Iteration 4, loss = 0.13240191\n",
      "Validation score: 0.496250\n",
      "Iteration 5, loss = 0.01782660\n",
      "Validation score: 0.498750\n",
      "Iteration 6, loss = 0.00640700\n",
      "Validation score: 0.497500\n",
      "Iteration 7, loss = 0.00377833\n",
      "Validation score: 0.500000\n",
      "Iteration 8, loss = 0.00259763\n",
      "Validation score: 0.500000\n",
      "Iteration 9, loss = 0.00193143\n",
      "Validation score: 0.500000\n",
      "Iteration 10, loss = 0.00151332\n",
      "Validation score: 0.500000\n",
      "Iteration 11, loss = 0.00123351\n",
      "Validation score: 0.500000\n",
      "Iteration 12, loss = 0.00103603\n",
      "Validation score: 0.500000\n",
      "Iteration 13, loss = 0.00089140\n",
      "Validation score: 0.500000\n",
      "Validation score did not improve more than tol=0.000100 for 10 consecutive epochs. Stopping.\n"
     ]
    },
    {
     "data": {
      "text/html": [
       "<style>#sk-container-id-15 {color: black;}#sk-container-id-15 pre{padding: 0;}#sk-container-id-15 div.sk-toggleable {background-color: white;}#sk-container-id-15 label.sk-toggleable__label {cursor: pointer;display: block;width: 100%;margin-bottom: 0;padding: 0.3em;box-sizing: border-box;text-align: center;}#sk-container-id-15 label.sk-toggleable__label-arrow:before {content: \"▸\";float: left;margin-right: 0.25em;color: #696969;}#sk-container-id-15 label.sk-toggleable__label-arrow:hover:before {color: black;}#sk-container-id-15 div.sk-estimator:hover label.sk-toggleable__label-arrow:before {color: black;}#sk-container-id-15 div.sk-toggleable__content {max-height: 0;max-width: 0;overflow: hidden;text-align: left;background-color: #f0f8ff;}#sk-container-id-15 div.sk-toggleable__content pre {margin: 0.2em;color: black;border-radius: 0.25em;background-color: #f0f8ff;}#sk-container-id-15 input.sk-toggleable__control:checked~div.sk-toggleable__content {max-height: 200px;max-width: 100%;overflow: auto;}#sk-container-id-15 input.sk-toggleable__control:checked~label.sk-toggleable__label-arrow:before {content: \"▾\";}#sk-container-id-15 div.sk-estimator input.sk-toggleable__control:checked~label.sk-toggleable__label {background-color: #d4ebff;}#sk-container-id-15 div.sk-label input.sk-toggleable__control:checked~label.sk-toggleable__label {background-color: #d4ebff;}#sk-container-id-15 input.sk-hidden--visually {border: 0;clip: rect(1px 1px 1px 1px);clip: rect(1px, 1px, 1px, 1px);height: 1px;margin: -1px;overflow: hidden;padding: 0;position: absolute;width: 1px;}#sk-container-id-15 div.sk-estimator {font-family: monospace;background-color: #f0f8ff;border: 1px dotted black;border-radius: 0.25em;box-sizing: border-box;margin-bottom: 0.5em;}#sk-container-id-15 div.sk-estimator:hover {background-color: #d4ebff;}#sk-container-id-15 div.sk-parallel-item::after {content: \"\";width: 100%;border-bottom: 1px solid gray;flex-grow: 1;}#sk-container-id-15 div.sk-label:hover label.sk-toggleable__label {background-color: #d4ebff;}#sk-container-id-15 div.sk-serial::before {content: \"\";position: absolute;border-left: 1px solid gray;box-sizing: border-box;top: 0;bottom: 0;left: 50%;z-index: 0;}#sk-container-id-15 div.sk-serial {display: flex;flex-direction: column;align-items: center;background-color: white;padding-right: 0.2em;padding-left: 0.2em;position: relative;}#sk-container-id-15 div.sk-item {position: relative;z-index: 1;}#sk-container-id-15 div.sk-parallel {display: flex;align-items: stretch;justify-content: center;background-color: white;position: relative;}#sk-container-id-15 div.sk-item::before, #sk-container-id-15 div.sk-parallel-item::before {content: \"\";position: absolute;border-left: 1px solid gray;box-sizing: border-box;top: 0;bottom: 0;left: 50%;z-index: -1;}#sk-container-id-15 div.sk-parallel-item {display: flex;flex-direction: column;z-index: 1;position: relative;background-color: white;}#sk-container-id-15 div.sk-parallel-item:first-child::after {align-self: flex-end;width: 50%;}#sk-container-id-15 div.sk-parallel-item:last-child::after {align-self: flex-start;width: 50%;}#sk-container-id-15 div.sk-parallel-item:only-child::after {width: 0;}#sk-container-id-15 div.sk-dashed-wrapped {border: 1px dashed gray;margin: 0 0.4em 0.5em 0.4em;box-sizing: border-box;padding-bottom: 0.4em;background-color: white;}#sk-container-id-15 div.sk-label label {font-family: monospace;font-weight: bold;display: inline-block;line-height: 1.2em;}#sk-container-id-15 div.sk-label-container {text-align: center;}#sk-container-id-15 div.sk-container {/* jupyter's `normalize.less` sets `[hidden] { display: none; }` but bootstrap.min.css set `[hidden] { display: none !important; }` so we also need the `!important` here to be able to override the default hidden behavior on the sphinx rendered scikit-learn.org. See: https://github.com/scikit-learn/scikit-learn/issues/21755 */display: inline-block !important;position: relative;}#sk-container-id-15 div.sk-text-repr-fallback {display: none;}</style><div id=\"sk-container-id-15\" class=\"sk-top-container\"><div class=\"sk-text-repr-fallback\"><pre>MLPClassifier(early_stopping=True, hidden_layer_sizes=(100, 100), max_iter=1000,\n",
       "              random_state=42, verbose=True)</pre><b>In a Jupyter environment, please rerun this cell to show the HTML representation or trust the notebook. <br />On GitHub, the HTML representation is unable to render, please try loading this page with nbviewer.org.</b></div><div class=\"sk-container\" hidden><div class=\"sk-item\"><div class=\"sk-estimator sk-toggleable\"><input class=\"sk-toggleable__control sk-hidden--visually\" id=\"sk-estimator-id-15\" type=\"checkbox\" checked><label for=\"sk-estimator-id-15\" class=\"sk-toggleable__label sk-toggleable__label-arrow\">MLPClassifier</label><div class=\"sk-toggleable__content\"><pre>MLPClassifier(early_stopping=True, hidden_layer_sizes=(100, 100), max_iter=1000,\n",
       "              random_state=42, verbose=True)</pre></div></div></div></div></div>"
      ],
      "text/plain": [
       "MLPClassifier(early_stopping=True, hidden_layer_sizes=(100, 100), max_iter=1000,\n",
       "              random_state=42, verbose=True)"
      ]
     },
     "execution_count": 132,
     "metadata": {},
     "output_type": "execute_result"
    }
   ],
   "source": [
    "# Train a neural network classifier\n",
    "clf_count_vec = MLPClassifier(hidden_layer_sizes=(100,100), random_state=42, max_iter=1000, verbose=True, early_stopping=True, validation_fraction=0.1)\n",
    "clf_count_vec.fit(X_train_counts, train_labels)"
   ]
  },
  {
   "cell_type": "code",
   "execution_count": 133,
   "metadata": {},
   "outputs": [
    {
     "name": "stderr",
     "output_type": "stream",
     "text": [
      "d:\\Python\\Lib\\site-packages\\sklearn\\metrics\\_classification.py:1469: UndefinedMetricWarning: Precision and F-score are ill-defined and being set to 0.0 in labels with no predicted samples. Use `zero_division` parameter to control this behavior.\n",
      "  _warn_prf(average, modifier, msg_start, len(result))\n",
      "d:\\Python\\Lib\\site-packages\\sklearn\\metrics\\_classification.py:1469: UndefinedMetricWarning: Precision and F-score are ill-defined and being set to 0.0 in labels with no predicted samples. Use `zero_division` parameter to control this behavior.\n",
      "  _warn_prf(average, modifier, msg_start, len(result))\n",
      "d:\\Python\\Lib\\site-packages\\sklearn\\metrics\\_classification.py:1469: UndefinedMetricWarning: Precision and F-score are ill-defined and being set to 0.0 in labels with no predicted samples. Use `zero_division` parameter to control this behavior.\n",
      "  _warn_prf(average, modifier, msg_start, len(result))\n"
     ]
    },
    {
     "data": {
      "text/plain": [
       "{'0': {'precision': 0.0, 'recall': 0.0, 'f1-score': 0.0, 'support': 1000.0},\n",
       " '1': {'precision': 0.5,\n",
       "  'recall': 1.0,\n",
       "  'f1-score': 0.6666666666666666,\n",
       "  'support': 1000.0},\n",
       " 'accuracy': 0.5,\n",
       " 'macro avg': {'precision': 0.25,\n",
       "  'recall': 0.5,\n",
       "  'f1-score': 0.3333333333333333,\n",
       "  'support': 2000.0},\n",
       " 'weighted avg': {'precision': 0.25,\n",
       "  'recall': 0.5,\n",
       "  'f1-score': 0.3333333333333333,\n",
       "  'support': 2000.0}}"
      ]
     },
     "execution_count": 133,
     "metadata": {},
     "output_type": "execute_result"
    }
   ],
   "source": [
    "test_preds = clf_count_vec.predict(X_test_counts)\n",
    "classification_report(test_labels, test_preds, output_dict=True)"
   ]
  },
  {
   "cell_type": "code",
   "execution_count": 134,
   "metadata": {},
   "outputs": [
    {
     "name": "stderr",
     "output_type": "stream",
     "text": [
      "d:\\Python\\Lib\\site-packages\\sklearn\\metrics\\_classification.py:1469: UndefinedMetricWarning: Precision and F-score are ill-defined and being set to 0.0 in labels with no predicted samples. Use `zero_division` parameter to control this behavior.\n",
      "  _warn_prf(average, modifier, msg_start, len(result))\n",
      "d:\\Python\\Lib\\site-packages\\sklearn\\metrics\\_classification.py:1469: UndefinedMetricWarning: Precision and F-score are ill-defined and being set to 0.0 in labels with no predicted samples. Use `zero_division` parameter to control this behavior.\n",
      "  _warn_prf(average, modifier, msg_start, len(result))\n",
      "d:\\Python\\Lib\\site-packages\\sklearn\\metrics\\_classification.py:1469: UndefinedMetricWarning: Precision and F-score are ill-defined and being set to 0.0 in labels with no predicted samples. Use `zero_division` parameter to control this behavior.\n",
      "  _warn_prf(average, modifier, msg_start, len(result))\n"
     ]
    },
    {
     "data": {
      "text/plain": [
       "{'0': {'precision': 0.0, 'recall': 0.0, 'f1-score': 0.0, 'support': 14999.0},\n",
       " '1': {'precision': 0.2500125006250313,\n",
       "  'recall': 1.0,\n",
       "  'f1-score': 0.4000160006400256,\n",
       "  'support': 5000.0},\n",
       " 'accuracy': 0.2500125006250313,\n",
       " 'macro avg': {'precision': 0.12500625031251564,\n",
       "  'recall': 0.5,\n",
       "  'f1-score': 0.2000080003200128,\n",
       "  'support': 19999.0},\n",
       " 'weighted avg': {'precision': 0.06250625046878126,\n",
       "  'recall': 0.2500125006250313,\n",
       "  'f1-score': 0.10000900061003691,\n",
       "  'support': 19999.0}}"
      ]
     },
     "execution_count": 134,
     "metadata": {},
     "output_type": "execute_result"
    }
   ],
   "source": [
    "challenge_preds = clf_count_vec.predict(X_challenge_counts)\n",
    "classification_report(challenge_labels, challenge_preds, output_dict=True)"
   ]
  },
  {
   "cell_type": "markdown",
   "metadata": {},
   "source": [
    "# TF-IDF Vectorizer"
   ]
  },
  {
   "cell_type": "code",
   "execution_count": 136,
   "metadata": {},
   "outputs": [],
   "source": [
    "from sklearn.feature_extraction.text import TfidfTransformer\n",
    "tfidf_transformer = TfidfTransformer()\n",
    "X_train_tfidf = tfidf_transformer.fit_transform(X_train_counts)\n",
    "X_test_tfidf = tfidf_transformer.transform(X_test_counts)\n",
    "X_challenge_tfidf = tfidf_transformer.transform(X_challenge_counts)"
   ]
  },
  {
   "cell_type": "code",
   "execution_count": 137,
   "metadata": {},
   "outputs": [
    {
     "data": {
      "text/plain": [
       "((8000, 8000), (2000, 8000))"
      ]
     },
     "execution_count": 137,
     "metadata": {},
     "output_type": "execute_result"
    }
   ],
   "source": [
    "X_train_tfidf.shape, X_test_tfidf.shape"
   ]
  },
  {
   "cell_type": "code",
   "execution_count": 138,
   "metadata": {},
   "outputs": [
    {
     "name": "stdout",
     "output_type": "stream",
     "text": [
      "Iteration 1, loss = 0.69330099\n",
      "Validation score: 0.498750\n",
      "Iteration 2, loss = 0.66677961\n",
      "Validation score: 0.513750\n",
      "Iteration 3, loss = 0.48777775\n",
      "Validation score: 0.505000\n",
      "Iteration 4, loss = 0.13240191\n",
      "Validation score: 0.496250\n",
      "Iteration 5, loss = 0.01782660\n",
      "Validation score: 0.498750\n",
      "Iteration 6, loss = 0.00640700\n",
      "Validation score: 0.497500\n",
      "Iteration 7, loss = 0.00377833\n",
      "Validation score: 0.500000\n",
      "Iteration 8, loss = 0.00259763\n",
      "Validation score: 0.500000\n",
      "Iteration 9, loss = 0.00193143\n",
      "Validation score: 0.500000\n",
      "Iteration 10, loss = 0.00151332\n",
      "Validation score: 0.500000\n",
      "Iteration 11, loss = 0.00123351\n",
      "Validation score: 0.500000\n",
      "Iteration 12, loss = 0.00103603\n",
      "Validation score: 0.500000\n",
      "Iteration 13, loss = 0.00089140\n",
      "Validation score: 0.500000\n",
      "Validation score did not improve more than tol=0.000100 for 10 consecutive epochs. Stopping.\n"
     ]
    },
    {
     "data": {
      "text/html": [
       "<style>#sk-container-id-16 {color: black;}#sk-container-id-16 pre{padding: 0;}#sk-container-id-16 div.sk-toggleable {background-color: white;}#sk-container-id-16 label.sk-toggleable__label {cursor: pointer;display: block;width: 100%;margin-bottom: 0;padding: 0.3em;box-sizing: border-box;text-align: center;}#sk-container-id-16 label.sk-toggleable__label-arrow:before {content: \"▸\";float: left;margin-right: 0.25em;color: #696969;}#sk-container-id-16 label.sk-toggleable__label-arrow:hover:before {color: black;}#sk-container-id-16 div.sk-estimator:hover label.sk-toggleable__label-arrow:before {color: black;}#sk-container-id-16 div.sk-toggleable__content {max-height: 0;max-width: 0;overflow: hidden;text-align: left;background-color: #f0f8ff;}#sk-container-id-16 div.sk-toggleable__content pre {margin: 0.2em;color: black;border-radius: 0.25em;background-color: #f0f8ff;}#sk-container-id-16 input.sk-toggleable__control:checked~div.sk-toggleable__content {max-height: 200px;max-width: 100%;overflow: auto;}#sk-container-id-16 input.sk-toggleable__control:checked~label.sk-toggleable__label-arrow:before {content: \"▾\";}#sk-container-id-16 div.sk-estimator input.sk-toggleable__control:checked~label.sk-toggleable__label {background-color: #d4ebff;}#sk-container-id-16 div.sk-label input.sk-toggleable__control:checked~label.sk-toggleable__label {background-color: #d4ebff;}#sk-container-id-16 input.sk-hidden--visually {border: 0;clip: rect(1px 1px 1px 1px);clip: rect(1px, 1px, 1px, 1px);height: 1px;margin: -1px;overflow: hidden;padding: 0;position: absolute;width: 1px;}#sk-container-id-16 div.sk-estimator {font-family: monospace;background-color: #f0f8ff;border: 1px dotted black;border-radius: 0.25em;box-sizing: border-box;margin-bottom: 0.5em;}#sk-container-id-16 div.sk-estimator:hover {background-color: #d4ebff;}#sk-container-id-16 div.sk-parallel-item::after {content: \"\";width: 100%;border-bottom: 1px solid gray;flex-grow: 1;}#sk-container-id-16 div.sk-label:hover label.sk-toggleable__label {background-color: #d4ebff;}#sk-container-id-16 div.sk-serial::before {content: \"\";position: absolute;border-left: 1px solid gray;box-sizing: border-box;top: 0;bottom: 0;left: 50%;z-index: 0;}#sk-container-id-16 div.sk-serial {display: flex;flex-direction: column;align-items: center;background-color: white;padding-right: 0.2em;padding-left: 0.2em;position: relative;}#sk-container-id-16 div.sk-item {position: relative;z-index: 1;}#sk-container-id-16 div.sk-parallel {display: flex;align-items: stretch;justify-content: center;background-color: white;position: relative;}#sk-container-id-16 div.sk-item::before, #sk-container-id-16 div.sk-parallel-item::before {content: \"\";position: absolute;border-left: 1px solid gray;box-sizing: border-box;top: 0;bottom: 0;left: 50%;z-index: -1;}#sk-container-id-16 div.sk-parallel-item {display: flex;flex-direction: column;z-index: 1;position: relative;background-color: white;}#sk-container-id-16 div.sk-parallel-item:first-child::after {align-self: flex-end;width: 50%;}#sk-container-id-16 div.sk-parallel-item:last-child::after {align-self: flex-start;width: 50%;}#sk-container-id-16 div.sk-parallel-item:only-child::after {width: 0;}#sk-container-id-16 div.sk-dashed-wrapped {border: 1px dashed gray;margin: 0 0.4em 0.5em 0.4em;box-sizing: border-box;padding-bottom: 0.4em;background-color: white;}#sk-container-id-16 div.sk-label label {font-family: monospace;font-weight: bold;display: inline-block;line-height: 1.2em;}#sk-container-id-16 div.sk-label-container {text-align: center;}#sk-container-id-16 div.sk-container {/* jupyter's `normalize.less` sets `[hidden] { display: none; }` but bootstrap.min.css set `[hidden] { display: none !important; }` so we also need the `!important` here to be able to override the default hidden behavior on the sphinx rendered scikit-learn.org. See: https://github.com/scikit-learn/scikit-learn/issues/21755 */display: inline-block !important;position: relative;}#sk-container-id-16 div.sk-text-repr-fallback {display: none;}</style><div id=\"sk-container-id-16\" class=\"sk-top-container\"><div class=\"sk-text-repr-fallback\"><pre>MLPClassifier(early_stopping=True, hidden_layer_sizes=(100, 100), max_iter=1000,\n",
       "              random_state=42, verbose=True)</pre><b>In a Jupyter environment, please rerun this cell to show the HTML representation or trust the notebook. <br />On GitHub, the HTML representation is unable to render, please try loading this page with nbviewer.org.</b></div><div class=\"sk-container\" hidden><div class=\"sk-item\"><div class=\"sk-estimator sk-toggleable\"><input class=\"sk-toggleable__control sk-hidden--visually\" id=\"sk-estimator-id-16\" type=\"checkbox\" checked><label for=\"sk-estimator-id-16\" class=\"sk-toggleable__label sk-toggleable__label-arrow\">MLPClassifier</label><div class=\"sk-toggleable__content\"><pre>MLPClassifier(early_stopping=True, hidden_layer_sizes=(100, 100), max_iter=1000,\n",
       "              random_state=42, verbose=True)</pre></div></div></div></div></div>"
      ],
      "text/plain": [
       "MLPClassifier(early_stopping=True, hidden_layer_sizes=(100, 100), max_iter=1000,\n",
       "              random_state=42, verbose=True)"
      ]
     },
     "execution_count": 138,
     "metadata": {},
     "output_type": "execute_result"
    }
   ],
   "source": [
    "tf_idf_clf = MLPClassifier(hidden_layer_sizes=(100,100), random_state=42, max_iter=1000, verbose=True, early_stopping=True, validation_fraction=0.1)\n",
    "tf_idf_clf.fit(X_train_tfidf, train_labels)"
   ]
  },
  {
   "cell_type": "code",
   "execution_count": 139,
   "metadata": {},
   "outputs": [
    {
     "data": {
      "text/plain": [
       "array([[   0, 1000],\n",
       "       [   0, 1000]], dtype=int64)"
      ]
     },
     "execution_count": 139,
     "metadata": {},
     "output_type": "execute_result"
    }
   ],
   "source": [
    "test_preds = tf_idf_clf.predict(X_test_tfidf)\n",
    "confusion_matrix(test_labels, test_preds)"
   ]
  },
  {
   "cell_type": "code",
   "execution_count": 140,
   "metadata": {},
   "outputs": [
    {
     "name": "stderr",
     "output_type": "stream",
     "text": [
      "d:\\Python\\Lib\\site-packages\\sklearn\\metrics\\_classification.py:1469: UndefinedMetricWarning: Precision and F-score are ill-defined and being set to 0.0 in labels with no predicted samples. Use `zero_division` parameter to control this behavior.\n",
      "  _warn_prf(average, modifier, msg_start, len(result))\n",
      "d:\\Python\\Lib\\site-packages\\sklearn\\metrics\\_classification.py:1469: UndefinedMetricWarning: Precision and F-score are ill-defined and being set to 0.0 in labels with no predicted samples. Use `zero_division` parameter to control this behavior.\n",
      "  _warn_prf(average, modifier, msg_start, len(result))\n",
      "d:\\Python\\Lib\\site-packages\\sklearn\\metrics\\_classification.py:1469: UndefinedMetricWarning: Precision and F-score are ill-defined and being set to 0.0 in labels with no predicted samples. Use `zero_division` parameter to control this behavior.\n",
      "  _warn_prf(average, modifier, msg_start, len(result))\n"
     ]
    },
    {
     "data": {
      "text/plain": [
       "{'0': {'precision': 0.0, 'recall': 0.0, 'f1-score': 0.0, 'support': 14999.0},\n",
       " '1': {'precision': 0.2500125006250313,\n",
       "  'recall': 1.0,\n",
       "  'f1-score': 0.4000160006400256,\n",
       "  'support': 5000.0},\n",
       " 'accuracy': 0.2500125006250313,\n",
       " 'macro avg': {'precision': 0.12500625031251564,\n",
       "  'recall': 0.5,\n",
       "  'f1-score': 0.2000080003200128,\n",
       "  'support': 19999.0},\n",
       " 'weighted avg': {'precision': 0.06250625046878126,\n",
       "  'recall': 0.2500125006250313,\n",
       "  'f1-score': 0.10000900061003691,\n",
       "  'support': 19999.0}}"
      ]
     },
     "execution_count": 140,
     "metadata": {},
     "output_type": "execute_result"
    }
   ],
   "source": [
    "challenge_preds = tf_idf_clf.predict(X_challenge_tfidf)\n",
    "classification_report(challenge_labels, challenge_preds, output_dict=True)"
   ]
  },
  {
   "cell_type": "markdown",
   "metadata": {},
   "source": [
    "# Encode Using Alphabet Arrays With Bools"
   ]
  },
  {
   "cell_type": "code",
   "execution_count": 141,
   "metadata": {},
   "outputs": [],
   "source": [
    "def encode(seq):\n",
    "    seq = seq.upper()\n",
    "    assert len(seq) == SEQ_LENGTH, \"length of sequence must be {}\".format(SEQ_LENGTH)\n",
    "    encoding = [0]*len(all_chars)\n",
    "    for i, char in enumerate(seq):\n",
    "        encoding[all_chars.index(char)] = 1\n",
    "    return encoding\n",
    "\n",
    "encoded_train_dataset = [encode(seq) for seq in train_dataset]\n",
    "encoded_test_dataset = [encode(seq) for seq in test_dataset]\n",
    "encoded_challenge_dataset = [encode(seq) for seq in challenge_dataset]"
   ]
  },
  {
   "cell_type": "code",
   "execution_count": 142,
   "metadata": {},
   "outputs": [
    {
     "name": "stdout",
     "output_type": "stream",
     "text": [
      "Iteration 1, loss = 0.59960631\n",
      "Validation score: 0.841250\n",
      "Iteration 2, loss = 0.35448123\n",
      "Validation score: 0.975000\n",
      "Iteration 3, loss = 0.13834979\n",
      "Validation score: 0.981250\n",
      "Iteration 4, loss = 0.07248609\n",
      "Validation score: 0.985000\n",
      "Iteration 5, loss = 0.05298355\n",
      "Validation score: 0.981250\n",
      "Iteration 6, loss = 0.04309932\n",
      "Validation score: 0.990000\n",
      "Iteration 7, loss = 0.03661357\n",
      "Validation score: 0.990000\n",
      "Iteration 8, loss = 0.03214211\n",
      "Validation score: 0.990000\n",
      "Iteration 9, loss = 0.02937653\n",
      "Validation score: 0.990000\n",
      "Iteration 10, loss = 0.02605136\n",
      "Validation score: 0.992500\n",
      "Iteration 11, loss = 0.02478028\n",
      "Validation score: 0.991250\n",
      "Iteration 12, loss = 0.02218605\n",
      "Validation score: 0.988750\n",
      "Iteration 13, loss = 0.02070923\n",
      "Validation score: 0.991250\n",
      "Iteration 14, loss = 0.01956233\n",
      "Validation score: 0.991250\n",
      "Iteration 15, loss = 0.01783790\n",
      "Validation score: 0.990000\n",
      "Iteration 16, loss = 0.01796825\n",
      "Validation score: 0.991250\n",
      "Iteration 17, loss = 0.01510266\n",
      "Validation score: 0.991250\n",
      "Iteration 18, loss = 0.01450064\n",
      "Validation score: 0.992500\n",
      "Iteration 19, loss = 0.01316638\n",
      "Validation score: 0.992500\n",
      "Iteration 20, loss = 0.01191032\n",
      "Validation score: 0.990000\n",
      "Iteration 21, loss = 0.01126398\n",
      "Validation score: 0.991250\n",
      "Validation score did not improve more than tol=0.000100 for 10 consecutive epochs. Stopping.\n"
     ]
    },
    {
     "data": {
      "text/html": [
       "<style>#sk-container-id-17 {color: black;}#sk-container-id-17 pre{padding: 0;}#sk-container-id-17 div.sk-toggleable {background-color: white;}#sk-container-id-17 label.sk-toggleable__label {cursor: pointer;display: block;width: 100%;margin-bottom: 0;padding: 0.3em;box-sizing: border-box;text-align: center;}#sk-container-id-17 label.sk-toggleable__label-arrow:before {content: \"▸\";float: left;margin-right: 0.25em;color: #696969;}#sk-container-id-17 label.sk-toggleable__label-arrow:hover:before {color: black;}#sk-container-id-17 div.sk-estimator:hover label.sk-toggleable__label-arrow:before {color: black;}#sk-container-id-17 div.sk-toggleable__content {max-height: 0;max-width: 0;overflow: hidden;text-align: left;background-color: #f0f8ff;}#sk-container-id-17 div.sk-toggleable__content pre {margin: 0.2em;color: black;border-radius: 0.25em;background-color: #f0f8ff;}#sk-container-id-17 input.sk-toggleable__control:checked~div.sk-toggleable__content {max-height: 200px;max-width: 100%;overflow: auto;}#sk-container-id-17 input.sk-toggleable__control:checked~label.sk-toggleable__label-arrow:before {content: \"▾\";}#sk-container-id-17 div.sk-estimator input.sk-toggleable__control:checked~label.sk-toggleable__label {background-color: #d4ebff;}#sk-container-id-17 div.sk-label input.sk-toggleable__control:checked~label.sk-toggleable__label {background-color: #d4ebff;}#sk-container-id-17 input.sk-hidden--visually {border: 0;clip: rect(1px 1px 1px 1px);clip: rect(1px, 1px, 1px, 1px);height: 1px;margin: -1px;overflow: hidden;padding: 0;position: absolute;width: 1px;}#sk-container-id-17 div.sk-estimator {font-family: monospace;background-color: #f0f8ff;border: 1px dotted black;border-radius: 0.25em;box-sizing: border-box;margin-bottom: 0.5em;}#sk-container-id-17 div.sk-estimator:hover {background-color: #d4ebff;}#sk-container-id-17 div.sk-parallel-item::after {content: \"\";width: 100%;border-bottom: 1px solid gray;flex-grow: 1;}#sk-container-id-17 div.sk-label:hover label.sk-toggleable__label {background-color: #d4ebff;}#sk-container-id-17 div.sk-serial::before {content: \"\";position: absolute;border-left: 1px solid gray;box-sizing: border-box;top: 0;bottom: 0;left: 50%;z-index: 0;}#sk-container-id-17 div.sk-serial {display: flex;flex-direction: column;align-items: center;background-color: white;padding-right: 0.2em;padding-left: 0.2em;position: relative;}#sk-container-id-17 div.sk-item {position: relative;z-index: 1;}#sk-container-id-17 div.sk-parallel {display: flex;align-items: stretch;justify-content: center;background-color: white;position: relative;}#sk-container-id-17 div.sk-item::before, #sk-container-id-17 div.sk-parallel-item::before {content: \"\";position: absolute;border-left: 1px solid gray;box-sizing: border-box;top: 0;bottom: 0;left: 50%;z-index: -1;}#sk-container-id-17 div.sk-parallel-item {display: flex;flex-direction: column;z-index: 1;position: relative;background-color: white;}#sk-container-id-17 div.sk-parallel-item:first-child::after {align-self: flex-end;width: 50%;}#sk-container-id-17 div.sk-parallel-item:last-child::after {align-self: flex-start;width: 50%;}#sk-container-id-17 div.sk-parallel-item:only-child::after {width: 0;}#sk-container-id-17 div.sk-dashed-wrapped {border: 1px dashed gray;margin: 0 0.4em 0.5em 0.4em;box-sizing: border-box;padding-bottom: 0.4em;background-color: white;}#sk-container-id-17 div.sk-label label {font-family: monospace;font-weight: bold;display: inline-block;line-height: 1.2em;}#sk-container-id-17 div.sk-label-container {text-align: center;}#sk-container-id-17 div.sk-container {/* jupyter's `normalize.less` sets `[hidden] { display: none; }` but bootstrap.min.css set `[hidden] { display: none !important; }` so we also need the `!important` here to be able to override the default hidden behavior on the sphinx rendered scikit-learn.org. See: https://github.com/scikit-learn/scikit-learn/issues/21755 */display: inline-block !important;position: relative;}#sk-container-id-17 div.sk-text-repr-fallback {display: none;}</style><div id=\"sk-container-id-17\" class=\"sk-top-container\"><div class=\"sk-text-repr-fallback\"><pre>MLPClassifier(early_stopping=True, hidden_layer_sizes=(100, 100), max_iter=1000,\n",
       "              random_state=42, verbose=True)</pre><b>In a Jupyter environment, please rerun this cell to show the HTML representation or trust the notebook. <br />On GitHub, the HTML representation is unable to render, please try loading this page with nbviewer.org.</b></div><div class=\"sk-container\" hidden><div class=\"sk-item\"><div class=\"sk-estimator sk-toggleable\"><input class=\"sk-toggleable__control sk-hidden--visually\" id=\"sk-estimator-id-17\" type=\"checkbox\" checked><label for=\"sk-estimator-id-17\" class=\"sk-toggleable__label sk-toggleable__label-arrow\">MLPClassifier</label><div class=\"sk-toggleable__content\"><pre>MLPClassifier(early_stopping=True, hidden_layer_sizes=(100, 100), max_iter=1000,\n",
       "              random_state=42, verbose=True)</pre></div></div></div></div></div>"
      ],
      "text/plain": [
       "MLPClassifier(early_stopping=True, hidden_layer_sizes=(100, 100), max_iter=1000,\n",
       "              random_state=42, verbose=True)"
      ]
     },
     "execution_count": 142,
     "metadata": {},
     "output_type": "execute_result"
    }
   ],
   "source": [
    "clf = MLPClassifier(hidden_layer_sizes=(100,100), random_state=42, max_iter=1000, verbose=True, early_stopping=True, validation_fraction=0.1)\n",
    "clf.fit(encoded_train_dataset, train_labels)"
   ]
  },
  {
   "cell_type": "code",
   "execution_count": 143,
   "metadata": {},
   "outputs": [
    {
     "data": {
      "text/plain": [
       "{'0': {'precision': 1.0,\n",
       "  'recall': 0.99,\n",
       "  'f1-score': 0.9949748743718593,\n",
       "  'support': 1000.0},\n",
       " '1': {'precision': 0.9900990099009901,\n",
       "  'recall': 1.0,\n",
       "  'f1-score': 0.9950248756218906,\n",
       "  'support': 1000.0},\n",
       " 'accuracy': 0.995,\n",
       " 'macro avg': {'precision': 0.995049504950495,\n",
       "  'recall': 0.995,\n",
       "  'f1-score': 0.9949998749968749,\n",
       "  'support': 2000.0},\n",
       " 'weighted avg': {'precision': 0.995049504950495,\n",
       "  'recall': 0.995,\n",
       "  'f1-score': 0.9949998749968749,\n",
       "  'support': 2000.0}}"
      ]
     },
     "execution_count": 143,
     "metadata": {},
     "output_type": "execute_result"
    }
   ],
   "source": [
    "test_preds = clf.predict(encoded_test_dataset)\n",
    "classification_report(test_labels, test_preds, output_dict=True)"
   ]
  },
  {
   "cell_type": "code",
   "execution_count": 144,
   "metadata": {},
   "outputs": [
    {
     "name": "stderr",
     "output_type": "stream",
     "text": [
      "d:\\Python\\Lib\\site-packages\\sklearn\\metrics\\_classification.py:1469: UndefinedMetricWarning: Precision and F-score are ill-defined and being set to 0.0 in labels with no predicted samples. Use `zero_division` parameter to control this behavior.\n",
      "  _warn_prf(average, modifier, msg_start, len(result))\n",
      "d:\\Python\\Lib\\site-packages\\sklearn\\metrics\\_classification.py:1469: UndefinedMetricWarning: Precision and F-score are ill-defined and being set to 0.0 in labels with no predicted samples. Use `zero_division` parameter to control this behavior.\n",
      "  _warn_prf(average, modifier, msg_start, len(result))\n",
      "d:\\Python\\Lib\\site-packages\\sklearn\\metrics\\_classification.py:1469: UndefinedMetricWarning: Precision and F-score are ill-defined and being set to 0.0 in labels with no predicted samples. Use `zero_division` parameter to control this behavior.\n",
      "  _warn_prf(average, modifier, msg_start, len(result))\n"
     ]
    },
    {
     "data": {
      "text/plain": [
       "{'0': {'precision': 0.0, 'recall': 0.0, 'f1-score': 0.0, 'support': 14999.0},\n",
       " '1': {'precision': 0.2500125006250313,\n",
       "  'recall': 1.0,\n",
       "  'f1-score': 0.4000160006400256,\n",
       "  'support': 5000.0},\n",
       " 'accuracy': 0.2500125006250313,\n",
       " 'macro avg': {'precision': 0.12500625031251564,\n",
       "  'recall': 0.5,\n",
       "  'f1-score': 0.2000080003200128,\n",
       "  'support': 19999.0},\n",
       " 'weighted avg': {'precision': 0.06250625046878126,\n",
       "  'recall': 0.2500125006250313,\n",
       "  'f1-score': 0.10000900061003691,\n",
       "  'support': 19999.0}}"
      ]
     },
     "execution_count": 144,
     "metadata": {},
     "output_type": "execute_result"
    }
   ],
   "source": [
    "challenge_preds = clf.predict(encoded_challenge_dataset)\n",
    "classification_report(challenge_labels, challenge_preds, output_dict=True)"
   ]
  },
  {
   "cell_type": "markdown",
   "metadata": {},
   "source": [
    "# Encode Using Alphabet Arrays With Frequencies"
   ]
  },
  {
   "cell_type": "code",
   "execution_count": 145,
   "metadata": {},
   "outputs": [],
   "source": [
    "def encode_with_freq(seq):\n",
    "    seq = seq.upper()\n",
    "    assert len(seq) == SEQ_LENGTH, \"length of sequence must be {}\".format(SEQ_LENGTH)\n",
    "    encoding = [0]*len(all_chars)\n",
    "    for i, char in enumerate(seq):\n",
    "        encoding[all_chars.index(char)] += 1\n",
    "    return encoding\n",
    "\n",
    "encoded_with_freq_train_dataset = [encode_with_freq(seq) for seq in train_dataset]\n",
    "encoded_with_freq_test_dataset = [encode_with_freq(seq) for seq in test_dataset]\n",
    "encoded_with_freq_challenge_dataset = [encode_with_freq(seq) for seq in challenge_dataset]"
   ]
  },
  {
   "cell_type": "code",
   "execution_count": 146,
   "metadata": {},
   "outputs": [
    {
     "name": "stdout",
     "output_type": "stream",
     "text": [
      "Iteration 1, loss = 0.64408131\n",
      "Validation score: 0.778750\n",
      "Iteration 2, loss = 0.49354465\n",
      "Validation score: 0.838750\n",
      "Iteration 3, loss = 0.35086734\n",
      "Validation score: 0.863750\n",
      "Iteration 4, loss = 0.27638589\n",
      "Validation score: 0.890000\n",
      "Iteration 5, loss = 0.23516032\n",
      "Validation score: 0.906250\n",
      "Iteration 6, loss = 0.20770107\n",
      "Validation score: 0.917500\n",
      "Iteration 7, loss = 0.18468332\n",
      "Validation score: 0.926250\n",
      "Iteration 8, loss = 0.16777078\n",
      "Validation score: 0.912500\n",
      "Iteration 9, loss = 0.15614554\n",
      "Validation score: 0.930000\n",
      "Iteration 10, loss = 0.14171770\n",
      "Validation score: 0.911250\n",
      "Iteration 11, loss = 0.13325240\n",
      "Validation score: 0.935000\n",
      "Iteration 12, loss = 0.12459984\n",
      "Validation score: 0.937500\n",
      "Iteration 13, loss = 0.11839305\n",
      "Validation score: 0.938750\n",
      "Iteration 14, loss = 0.11066509\n",
      "Validation score: 0.935000\n",
      "Iteration 15, loss = 0.10635911\n",
      "Validation score: 0.940000\n",
      "Iteration 16, loss = 0.11025128\n",
      "Validation score: 0.933750\n",
      "Iteration 17, loss = 0.09828306\n",
      "Validation score: 0.935000\n",
      "Iteration 18, loss = 0.08914516\n",
      "Validation score: 0.937500\n",
      "Iteration 19, loss = 0.08288608\n",
      "Validation score: 0.936250\n",
      "Iteration 20, loss = 0.07935324\n",
      "Validation score: 0.942500\n",
      "Iteration 21, loss = 0.07537529\n",
      "Validation score: 0.927500\n",
      "Iteration 22, loss = 0.07175570\n",
      "Validation score: 0.933750\n",
      "Iteration 23, loss = 0.06798966\n",
      "Validation score: 0.945000\n",
      "Iteration 24, loss = 0.06710277\n",
      "Validation score: 0.936250\n",
      "Iteration 25, loss = 0.06105265\n",
      "Validation score: 0.936250\n",
      "Iteration 26, loss = 0.05849163\n",
      "Validation score: 0.946250\n",
      "Iteration 27, loss = 0.05521822\n",
      "Validation score: 0.938750\n",
      "Iteration 28, loss = 0.05165751\n",
      "Validation score: 0.943750\n",
      "Iteration 29, loss = 0.04852238\n",
      "Validation score: 0.943750\n",
      "Iteration 30, loss = 0.04635022\n",
      "Validation score: 0.938750\n",
      "Iteration 31, loss = 0.04667396\n",
      "Validation score: 0.935000\n",
      "Iteration 32, loss = 0.04117103\n",
      "Validation score: 0.941250\n",
      "Iteration 33, loss = 0.03621369\n",
      "Validation score: 0.947500\n",
      "Iteration 34, loss = 0.03560956\n",
      "Validation score: 0.942500\n",
      "Iteration 35, loss = 0.03197061\n",
      "Validation score: 0.941250\n",
      "Iteration 36, loss = 0.02932721\n",
      "Validation score: 0.946250\n",
      "Iteration 37, loss = 0.02840289\n",
      "Validation score: 0.942500\n",
      "Iteration 38, loss = 0.02599449\n",
      "Validation score: 0.938750\n",
      "Iteration 39, loss = 0.02273113\n",
      "Validation score: 0.943750\n",
      "Iteration 40, loss = 0.02162290\n",
      "Validation score: 0.941250\n",
      "Iteration 41, loss = 0.02273478\n",
      "Validation score: 0.938750\n",
      "Iteration 42, loss = 0.01902096\n",
      "Validation score: 0.937500\n",
      "Iteration 43, loss = 0.01687852\n",
      "Validation score: 0.942500\n",
      "Iteration 44, loss = 0.01753702\n",
      "Validation score: 0.942500\n",
      "Validation score did not improve more than tol=0.000100 for 10 consecutive epochs. Stopping.\n"
     ]
    },
    {
     "data": {
      "text/html": [
       "<style>#sk-container-id-18 {color: black;}#sk-container-id-18 pre{padding: 0;}#sk-container-id-18 div.sk-toggleable {background-color: white;}#sk-container-id-18 label.sk-toggleable__label {cursor: pointer;display: block;width: 100%;margin-bottom: 0;padding: 0.3em;box-sizing: border-box;text-align: center;}#sk-container-id-18 label.sk-toggleable__label-arrow:before {content: \"▸\";float: left;margin-right: 0.25em;color: #696969;}#sk-container-id-18 label.sk-toggleable__label-arrow:hover:before {color: black;}#sk-container-id-18 div.sk-estimator:hover label.sk-toggleable__label-arrow:before {color: black;}#sk-container-id-18 div.sk-toggleable__content {max-height: 0;max-width: 0;overflow: hidden;text-align: left;background-color: #f0f8ff;}#sk-container-id-18 div.sk-toggleable__content pre {margin: 0.2em;color: black;border-radius: 0.25em;background-color: #f0f8ff;}#sk-container-id-18 input.sk-toggleable__control:checked~div.sk-toggleable__content {max-height: 200px;max-width: 100%;overflow: auto;}#sk-container-id-18 input.sk-toggleable__control:checked~label.sk-toggleable__label-arrow:before {content: \"▾\";}#sk-container-id-18 div.sk-estimator input.sk-toggleable__control:checked~label.sk-toggleable__label {background-color: #d4ebff;}#sk-container-id-18 div.sk-label input.sk-toggleable__control:checked~label.sk-toggleable__label {background-color: #d4ebff;}#sk-container-id-18 input.sk-hidden--visually {border: 0;clip: rect(1px 1px 1px 1px);clip: rect(1px, 1px, 1px, 1px);height: 1px;margin: -1px;overflow: hidden;padding: 0;position: absolute;width: 1px;}#sk-container-id-18 div.sk-estimator {font-family: monospace;background-color: #f0f8ff;border: 1px dotted black;border-radius: 0.25em;box-sizing: border-box;margin-bottom: 0.5em;}#sk-container-id-18 div.sk-estimator:hover {background-color: #d4ebff;}#sk-container-id-18 div.sk-parallel-item::after {content: \"\";width: 100%;border-bottom: 1px solid gray;flex-grow: 1;}#sk-container-id-18 div.sk-label:hover label.sk-toggleable__label {background-color: #d4ebff;}#sk-container-id-18 div.sk-serial::before {content: \"\";position: absolute;border-left: 1px solid gray;box-sizing: border-box;top: 0;bottom: 0;left: 50%;z-index: 0;}#sk-container-id-18 div.sk-serial {display: flex;flex-direction: column;align-items: center;background-color: white;padding-right: 0.2em;padding-left: 0.2em;position: relative;}#sk-container-id-18 div.sk-item {position: relative;z-index: 1;}#sk-container-id-18 div.sk-parallel {display: flex;align-items: stretch;justify-content: center;background-color: white;position: relative;}#sk-container-id-18 div.sk-item::before, #sk-container-id-18 div.sk-parallel-item::before {content: \"\";position: absolute;border-left: 1px solid gray;box-sizing: border-box;top: 0;bottom: 0;left: 50%;z-index: -1;}#sk-container-id-18 div.sk-parallel-item {display: flex;flex-direction: column;z-index: 1;position: relative;background-color: white;}#sk-container-id-18 div.sk-parallel-item:first-child::after {align-self: flex-end;width: 50%;}#sk-container-id-18 div.sk-parallel-item:last-child::after {align-self: flex-start;width: 50%;}#sk-container-id-18 div.sk-parallel-item:only-child::after {width: 0;}#sk-container-id-18 div.sk-dashed-wrapped {border: 1px dashed gray;margin: 0 0.4em 0.5em 0.4em;box-sizing: border-box;padding-bottom: 0.4em;background-color: white;}#sk-container-id-18 div.sk-label label {font-family: monospace;font-weight: bold;display: inline-block;line-height: 1.2em;}#sk-container-id-18 div.sk-label-container {text-align: center;}#sk-container-id-18 div.sk-container {/* jupyter's `normalize.less` sets `[hidden] { display: none; }` but bootstrap.min.css set `[hidden] { display: none !important; }` so we also need the `!important` here to be able to override the default hidden behavior on the sphinx rendered scikit-learn.org. See: https://github.com/scikit-learn/scikit-learn/issues/21755 */display: inline-block !important;position: relative;}#sk-container-id-18 div.sk-text-repr-fallback {display: none;}</style><div id=\"sk-container-id-18\" class=\"sk-top-container\"><div class=\"sk-text-repr-fallback\"><pre>MLPClassifier(early_stopping=True, hidden_layer_sizes=(100, 100), max_iter=1000,\n",
       "              random_state=42, verbose=True)</pre><b>In a Jupyter environment, please rerun this cell to show the HTML representation or trust the notebook. <br />On GitHub, the HTML representation is unable to render, please try loading this page with nbviewer.org.</b></div><div class=\"sk-container\" hidden><div class=\"sk-item\"><div class=\"sk-estimator sk-toggleable\"><input class=\"sk-toggleable__control sk-hidden--visually\" id=\"sk-estimator-id-18\" type=\"checkbox\" checked><label for=\"sk-estimator-id-18\" class=\"sk-toggleable__label sk-toggleable__label-arrow\">MLPClassifier</label><div class=\"sk-toggleable__content\"><pre>MLPClassifier(early_stopping=True, hidden_layer_sizes=(100, 100), max_iter=1000,\n",
       "              random_state=42, verbose=True)</pre></div></div></div></div></div>"
      ],
      "text/plain": [
       "MLPClassifier(early_stopping=True, hidden_layer_sizes=(100, 100), max_iter=1000,\n",
       "              random_state=42, verbose=True)"
      ]
     },
     "execution_count": 146,
     "metadata": {},
     "output_type": "execute_result"
    }
   ],
   "source": [
    "clf_encoded_with_freq = MLPClassifier(hidden_layer_sizes=(100,100), random_state=42, max_iter=1000, verbose=True, early_stopping=True, validation_fraction=0.1)\n",
    "clf_encoded_with_freq.fit(encoded_with_freq_train_dataset, train_labels)"
   ]
  },
  {
   "cell_type": "code",
   "execution_count": 149,
   "metadata": {},
   "outputs": [
    {
     "data": {
      "text/plain": [
       "{'0': {'precision': 0.9439252336448598,\n",
       "  'recall': 0.909,\n",
       "  'f1-score': 0.9261334691798268,\n",
       "  'support': 1000.0},\n",
       " '1': {'precision': 0.9122468659594986,\n",
       "  'recall': 0.946,\n",
       "  'f1-score': 0.9288168875797741,\n",
       "  'support': 1000.0},\n",
       " 'accuracy': 0.9275,\n",
       " 'macro avg': {'precision': 0.9280860498021792,\n",
       "  'recall': 0.9275,\n",
       "  'f1-score': 0.9274751783798004,\n",
       "  'support': 2000.0},\n",
       " 'weighted avg': {'precision': 0.9280860498021791,\n",
       "  'recall': 0.9275,\n",
       "  'f1-score': 0.9274751783798003,\n",
       "  'support': 2000.0}}"
      ]
     },
     "execution_count": 149,
     "metadata": {},
     "output_type": "execute_result"
    }
   ],
   "source": [
    "test_preds = clf_encoded_with_freq.predict(encoded_with_freq_test_dataset)\n",
    "classification_report(test_labels, test_preds, output_dict=True)"
   ]
  },
  {
   "cell_type": "code",
   "execution_count": 148,
   "metadata": {},
   "outputs": [
    {
     "data": {
      "text/plain": [
       "{'0': {'precision': 0.7617586912065439,\n",
       "  'recall': 0.04966997799853323,\n",
       "  'f1-score': 0.09325905989860424,\n",
       "  'support': 14999.0},\n",
       " '1': {'precision': 0.25061773828925926,\n",
       "  'recall': 0.9534,\n",
       "  'f1-score': 0.3969027101286374,\n",
       "  'support': 5000.0},\n",
       " 'accuracy': 0.27561378068903447,\n",
       " 'macro avg': {'precision': 0.5061882147479015,\n",
       "  'recall': 0.5015349889992666,\n",
       "  'f1-score': 0.24508088501362083,\n",
       "  'support': 19999.0},\n",
       " 'weighted avg': {'precision': 0.6339670633958323,\n",
       "  'recall': 0.27561378068903447,\n",
       "  'f1-score': 0.16917376819152719,\n",
       "  'support': 19999.0}}"
      ]
     },
     "execution_count": 148,
     "metadata": {},
     "output_type": "execute_result"
    }
   ],
   "source": [
    "challenge_preds = clf_encoded_with_freq.predict(encoded_with_freq_challenge_dataset)\n",
    "classification_report(challenge_labels, challenge_preds, output_dict=True)"
   ]
  }
 ],
 "metadata": {
  "kernelspec": {
   "display_name": "Python 3",
   "language": "python",
   "name": "python3"
  },
  "language_info": {
   "codemirror_mode": {
    "name": "ipython",
    "version": 3
   },
   "file_extension": ".py",
   "mimetype": "text/x-python",
   "name": "python",
   "nbconvert_exporter": "python",
   "pygments_lexer": "ipython3",
   "version": "3.11.4"
  }
 },
 "nbformat": 4,
 "nbformat_minor": 2
}
